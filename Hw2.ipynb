{
  "nbformat": 4,
  "nbformat_minor": 0,
  "metadata": {
    "colab": {
      "name": "Hw2.ipynb",
      "provenance": [],
      "collapsed_sections": []
    },
    "kernelspec": {
      "name": "python3",
      "display_name": "Python 3"
    },
    "language_info": {
      "name": "python"
    }
  },
  "cells": [
    {
      "cell_type": "code",
      "execution_count": null,
      "metadata": {
        "colab": {
          "base_uri": "https://localhost:8080/",
          "height": 314
        },
        "id": "D2bcZCNPo_5u",
        "outputId": "cb1f7200-a549-49df-d50e-783b845dbfd7"
      },
      "outputs": [
        {
          "output_type": "stream",
          "name": "stdout",
          "text": [
            " Theta_0 =  [1.3030303]  \n",
            " Theta_1 =  [0.96969697]\n"
          ]
        },
        {
          "output_type": "display_data",
          "data": {
            "text/plain": [
              "<Figure size 432x288 with 1 Axes>"
            ],
            "image/png": "[encoded data removed]"
          },
          "metadata": {
            "needs_background": "light"
          }
        }
      ],
      "source": [
        "#Q1\n",
        "import pandas as pd\n",
        "import numpy as np \n",
        "import matplotlib.pyplot as plt\n",
        "from matplotlib import colors\n",
        "\n",
        "#initila data\n",
        "x_init = [1, 3, 5, 7, 9, 11, 13, 15, 17, 19]\n",
        "y_init = [3, 3, 7, 7, 11, 11, 15, 15, 19, 19]\n",
        "\n",
        "# Using Normal Equations \n",
        "\n",
        "y = np.array([[3 ],[3] ,[7] ,[7] , [11], [11], [15], [15], [19], [19]])\n",
        "\n",
        "x =np.array([[1, 1, 1, 1, 1, 1, 1, 1, 1, 1],[1, 3, 5,  7, 9, 11, 13, 15, 17, 19]])\n",
        "X = x.transpose()\n",
        "\n",
        "\n",
        "X_trans = X.transpose()\n",
        "[t_0, t_1]= np.linalg.inv(X_trans.dot(X)).dot(X_trans).dot(y)\n",
        "print(\" Theta_0 = \", t_0, \" \\n Theta_1 = \", t_1)\n",
        "\n",
        "# predicted values \n",
        "y_pred = t_0 + t_1*x_init\n",
        "\n",
        "# compare results \n",
        "\n",
        "plt.scatter(x_init,y_init, color = 'b')\n",
        "plt.plot(x_init, y_pred, color = 'r')\n",
        "plt.xlabel('X Label')\n",
        "plt.ylabel('Y Label')\n",
        "plt.show()\n"
      ]
    },
    {
      "cell_type": "code",
      "source": [
        "# Q2\n",
        "\n",
        "import numpy as np\n",
        "\n",
        "#hypothesishypothesis function ---- h(theta)=theta1+theta2*x\n",
        "\n",
        "#loss function ------ l=[h(x(i))-y(i)]^2\n",
        "\n",
        "#cost function ------ J(theta) = [h(x(i))-y(i)]^2/(2*m)\n",
        "\n",
        "def training(tr_set):\n",
        "\n",
        "  (theta1, theta2, theta3)=(0,0,0) # Initialize theta's value\n",
        "  alpha=0.01 # Set up learning rate\n",
        "\n",
        "  m=len(tr_set) # Get number of samples in training set\n",
        "\n",
        "  iteration=36000\n",
        "\n",
        "  while iteration > 0:\n",
        "\n",
        "    dtheta1=0 # Initialize derivative value to big enough\n",
        "\n",
        "    dtheta2=0\n",
        "\n",
        "    dtheta3=0\n",
        "\n",
        "    for x in tr_set: # x[0]=x0; x[1]=x1; x[2]=x2; x[3]=y\n",
        "\n",
        "      dtheta1=dtheta1+((theta1*x[0]+theta2*x[1]+theta3*x[2])-x[3])*x[0]\n",
        "\n",
        "      dtheta2=dtheta2+((theta1*x[0]+theta2*x[1]+theta3*x[2])-x[3])*x[1]\n",
        "\n",
        "      dtheta3=dtheta3+((theta1*x[0]+theta2*x[1]+theta3*x[2])-x[3])*x[2]\n",
        "\n",
        "      theta1=theta1-alpha*dtheta1/m\n",
        "\n",
        "      theta2=theta2-alpha*dtheta2/m\n",
        "\n",
        "      theta3=theta3-alpha*dtheta3/m\n",
        "\n",
        "      iteration-=1\n",
        "\n",
        "  return (theta1, theta2, theta3)\n",
        "\n",
        "def pred(training_set,test_set):\n",
        "\n",
        "    (t1,t2,t3)=training(training_set)\n",
        "\n",
        "    #print(t1,t2,t3)\n",
        "\n",
        "    return t1*test_set[0]+t2*test_set[1]+t3*test_set[2]\n",
        "\n",
        "\n",
        "tr=[[1,-0.195652174,-0.433333333,-0.177897574],[1,-0.152173913,0.277777778,-0.121293801],[1,0.413043478,0.411111111,0.350404313],[1,-0.326086957,-0.122222222,0.04851752],[1,-0.065217391,-0.344444444,0.105121294],[1,0.152173913,0.033333333,0.067385445],[1,0.065217391,-0.188888889,-0.309973046],[1,0.543478261,0.411111111,0.690026954],[1,-0.065217391,0.411111111,0.180592992],[1,-0.456521739,-0.522222222,-0.215633423],[1,-0.065217391,-0.233333333,-0.15902965],[1,0.5,0.477777778,0.105121294],[1,-0.195652174,-0.077777778,-0.291105121],[1,-0.152173913,-0.1,-0.272237197]]\n",
        "\n",
        "tr=np.array(tr) # matrix format\n",
        "\n",
        "# tr[:,1]=(tr[:,1] - min(tr[:,1] )) / (max(tr[:,1])-min(tr[:,1])) # normalization bwt 0~1\n",
        "\n",
        "# tr[:,2]=(tr[:,2] - min(tr[:,1] )) / (max(tr[:,2])-min(tr[:,2])) # normalization bwt 0~1\n",
        "\n",
        "# print(tr)\n",
        "\n",
        "#for test_tr in tr:\n",
        "\n",
        "#print(pred(tr,test_tr))\n",
        "\n",
        "test=[[1,0.02173913, 0.166666667],[1,0.630434783,0.055555556]]\n",
        "\n",
        "test=np.array(test)\n",
        "\n",
        "for pre in test:\n",
        "\n",
        "    print(\"After training: \",pred(tr,pre) ,\"\\npredict value: \", pred(tr,pre)*53 + 126.4285714)\n",
        "\n"
      ],
      "metadata": {
        "id": "qHeR4KtcLd0b",
        "colab": {
          "base_uri": "https://localhost:8080/"
        },
        "outputId": "135cf8ed-150f-48e3-cf6f-b60ad896a02a"
      },
      "execution_count": null,
      "outputs": [
        {
          "output_type": "stream",
          "name": "stdout",
          "text": [
            "After training:  0.08177460268658995 \n",
            "predict value:  130.76262534238927\n",
            "After training:  0.36117888531877074 \n",
            "predict value:  145.57105232189485\n"
          ]
        }
      ]
    },
    {
      "cell_type": "code",
      "source": [
        "# Q3\n",
        "import pandas as pd\n",
        "import numpy as np \n",
        "import matplotlib.pyplot as plt\n",
        "from matplotlib import colors\n",
        "\n",
        "\n",
        "from google.colab import drive\n",
        "drive.mount('/content/drive')  \n",
        "path = ('/content/Q31.csv')\n",
        "\n",
        "data = pd.read_csv(path)\n",
        "\n",
        "data.describe()\n",
        "\n",
        "# will be continued \n",
        "\n",
        "\n",
        "\n"
      ],
      "metadata": {
        "id": "NOleq1uY0spg"
      },
      "execution_count": null,
      "outputs": []
    },
    {
      "cell_type": "code",
      "source": [
        "# Question 4\n",
        "\n",
        "\n",
        "# continue this \n",
        "\n",
        "import numpy as np\n",
        "\n",
        "def training(tr_set):(theta1,theta2,theta3)=(0,0,0) # Initialize theta's value\n",
        "  alpha = 0.01 # Set up learning rate\n",
        "\n",
        "  m=len(tr_set) # Get number of samples in training set\n",
        "\n",
        "  iteration=36000\n",
        "\n",
        "  while iteration > 0:\n",
        "\n",
        "      dtheta1=0 # Initialize derivative value to big enough\n",
        "\n",
        "      dtheta2=0\n",
        "\n",
        "      dtheta3=0\n",
        "\n",
        "      for x in tr_set: # x[0]=x0; x[1]=x1; x[2]=x2; x[3]=y\n",
        "\n",
        "          dtheta1=dtheta1+((theta1*x[0]+theta2*x[1]+theta3*x[2])-x[3])*x[0]\n",
        "\n",
        "          dtheta2=dtheta2+((theta1*x[0]+theta2*x[1]+theta3*x[2])-x[3])*x[1]\n",
        "\n",
        "          dtheta3=dtheta3+((theta1*x[0]+theta2*x[1]+theta3*x[2])-x[3])*x[2]\n",
        "\n",
        "          theta1=theta1-alpha*dtheta1/m\n",
        "\n",
        "          theta2=theta2-alpha*dtheta2/m\n",
        "\n",
        "          theta3=theta3-alpha*dtheta3/m\n",
        "\n",
        "          iteration-=1\n",
        "\n",
        "   return (theta1, theta2, theta3)\n",
        "\n",
        "\n",
        "def pred(training_set,test_set):\n",
        "\n",
        "    (t1,t2,t3)=training(training_set)\n",
        "\n",
        "    #print(t1,t2,t3)\n",
        "\n",
        "    return t1*test_set[0]+t2*test_set[1]+t3*test_set[2]\n",
        "\n",
        "\n"
      ],
      "metadata": {
        "id": "Sqnt8uEGCdf_"
      },
      "execution_count": null,
      "outputs": []
    }
  ]
}